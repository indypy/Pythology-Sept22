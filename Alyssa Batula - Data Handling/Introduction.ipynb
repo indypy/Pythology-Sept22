{
 "cells": [
  {
   "cell_type": "markdown",
   "metadata": {
    "slideshow": {
     "slide_type": "slide"
    }
   },
   "source": [
    "Garbage In -> Garbage Out: Proper Data Handling for Machine Learning\n",
    "===\n",
    "\n",
    "### Alyssa Batula ###  \n",
    "\n",
    "Jupyter Notebooks: https://github.com/abatula/DataHandling\n",
    " \n",
    "9/22/2017  \n",
    "Pythology: Machine Learning, AI, and Genetic Programming"
   ]
  },
  {
   "cell_type": "markdown",
   "metadata": {
    "slideshow": {
     "slide_type": "slide"
    }
   },
   "source": [
    "Data Cleaning\n",
    "===\n",
    "\n",
    "The process of fixing or removing incorrect, incomplete, or irrelevant data from a dataset.  \n",
    "Also called data cleansing, preparing, or scrubbing. \n",
    "\n",
    "Data Preprocessing\n",
    "===\n",
    "Formatting and transforming data to prepare it for an analysis.\n"
   ]
  },
  {
   "cell_type": "markdown",
   "metadata": {
    "slideshow": {
     "slide_type": "notes"
    }
   },
   "source": [
    "* Data Cleaning\n",
    "  - Fixing any issues in a dataset so that all data is present, relevant, and correct. \n",
    "  - Ongoing process: new problems can come to light at any point in an analysis\n",
    "* Data Preprocessing\n",
    "  - Additional steps used to get data ready for use in a specific analysis"
   ]
  },
  {
   "cell_type": "markdown",
   "metadata": {
    "slideshow": {
     "slide_type": "slide"
    }
   },
   "source": [
    "Garbage In -> Garbage Out\n",
    "===\n",
    "\n",
    "Analysis conclusions can only be as good as the quality of data used.  \n",
    "Any mistakes present in the data will cause mistakes in the results of your data analysis."
   ]
  },
  {
   "cell_type": "markdown",
   "metadata": {
    "slideshow": {
     "slide_type": "slide"
    }
   },
   "source": [
    "Steps To Machine Learning\n",
    "===\n",
    "\n",
    "* Get a dataset **and understand it**\n",
    "* Initial dataset cleaning\n",
    "* Create training, testing, and validation datasets\n",
    "* Data scaling, normalization, and preprocessing\n",
    "* Select the best information to give to the algorithm\n",
    "* Select a machine learning algorithm for your dataset"
   ]
  },
  {
   "cell_type": "markdown",
   "metadata": {
    "collapsed": true,
    "slideshow": {
     "slide_type": "notes"
    }
   },
   "source": [
    "The basic steps for getting ready for machine learning are:\n",
    "\n",
    "* Get a dataset **and understand it**\n",
    "  - Need to understand the problem you’re trying to solve with the data\n",
    "  - Your approach to dealing with issues should be guided by the information you need in order to answer your question\n",
    "  - If you don’t know what your data should look like or what to expect, you may not notice some of the more subtle issues with the dataset\n",
    "* Initial dataset cleaning\n",
    "  - Remove or fix incorrect or missing data\n",
    "* Create training, testing, and validation datasets\n",
    "  - Divide dataset into examples to be used for training vs evaluation\n",
    "* Data preprocessing\n",
    "  - Transform, format, and otherwise prepare data for your algorithm\n",
    "* Select the best information to give to the algorithm\n",
    "  - Select only the most informative features for your classifier\n",
    "* Select a machine learning algorithm for your dataset\n",
    "  - Chosen based on the type of data and the problem you want to solve\n"
   ]
  }
 ],
 "metadata": {
  "celltoolbar": "Slideshow",
  "kernelspec": {
   "display_name": "Python 3",
   "language": "python",
   "name": "python3"
  },
  "language_info": {
   "codemirror_mode": {
    "name": "ipython",
    "version": 3
   },
   "file_extension": ".py",
   "mimetype": "text/x-python",
   "name": "python",
   "nbconvert_exporter": "python",
   "pygments_lexer": "ipython3",
   "version": "3.6.2"
  }
 },
 "nbformat": 4,
 "nbformat_minor": 2
}
